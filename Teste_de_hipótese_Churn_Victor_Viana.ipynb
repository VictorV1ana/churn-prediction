{
  "nbformat": 4,
  "nbformat_minor": 0,
  "metadata": {
    "colab": {
      "name": "Teste de hipótese Churn -Victor Viana.ipynb",
      "provenance": [],
      "collapsed_sections": [],
      "toc_visible": true,
      "include_colab_link": true
    },
    "kernelspec": {
      "name": "python3",
      "display_name": "Python 3"
    }
  },
  "cells": [
    {
      "cell_type": "markdown",
      "metadata": {
        "id": "view-in-github",
        "colab_type": "text"
      },
      "source": [
        "<a href=\"https://colab.research.google.com/github/VictorV1ana/churn-prediction/blob/main/Teste_de_hip%C3%B3tese_Churn_Victor_Viana.ipynb\" target=\"_parent\"><img src=\"https://colab.research.google.com/assets/colab-badge.svg\" alt=\"Open In Colab\"/></a>"
      ]
    },
    {
      "cell_type": "markdown",
      "metadata": {
        "id": "IR56trFcPcC1"
      },
      "source": [
        "# Churn Prediction\n",
        "\n",
        "*Churn rate*, ou *churn*, representa a evasão da sua base de clientes. Em serviços como Spotify or Netflix, representa a taxa de cancelamento.\n",
        "\n",
        "<p align=center>\n",
        "<img src=\"https://raw.githubusercontent.com/carlosfab/dsnp2/master/img/churnrate.jpg\" width=\"60%\"></p>\n",
        "\n",
        "Ele é importante KPI que deve ser monitorado e pode revelar problemas de gestão e produto.\n",
        "\n",
        "*Churn* pode ser usado para prever o cancelamento, com o timing certo é possível reverter esse cenário com a reativação de clientes. Essa manobra é muito importante por que na maioria dos casos o Custo de Aquisição (CAC) de um novo cliente é maior do que o custo de reativação."
      ]
    },
    {
      "cell_type": "markdown",
      "metadata": {
        "id": "0HVmpIxQWT4Y"
      },
      "source": [
        "## Data Acquisition\n",
        "\n",
        "Os dados originais são do [IBM developer](https://developer.ibm.com/technologies/data-science/patterns/predict-customer-churn-using-watson-studio-and-jupyter-notebooks/#), e reporta um problema tipico de empresas de telecom.O *dataset* completo pode ser encontrado [nesse link](https://raw.githubusercontent.com/carlosfab/dsnp2/master/datasets/WA_Fn-UseC_-Telco-Customer-Churn.csv).\n",
        "\n",
        "Apesar de não existir um descrição exata, o nome das colunas permite entender-mos bem o problema."
      ]
    },
    {
      "cell_type": "markdown",
      "metadata": {
        "id": "aMloNkrvXmks"
      },
      "source": [
        "# Análise Exploratória\n",
        "\n",
        "Esse é uma versão resumida do [churn-prediction](https://github.com/VictorV1ana/churn-prediction/blob/main/Churn_Prediction_for_a_Telecommunications_company_Victor_Viana.ipynb). \n",
        "\n",
        "Aqui faremos apenas algumas observações e testaremos hipóteses. \n",
        "\n",
        "***Para uma análise mais completa e como construir um modelo preditivo veja o notebook original***\n"
      ]
    },
    {
      "cell_type": "markdown",
      "metadata": {
        "id": "lH0tCRi7x9Rh"
      },
      "source": [
        "### Pacotes e bibliotecas"
      ]
    },
    {
      "cell_type": "code",
      "metadata": {
        "id": "XzMAWEmvW9rE"
      },
      "source": [
        "# instalar Pandas Profiling\n",
        "!pip install scikit-plot -q\n",
        "!pip install imbalanced-learn -q\n",
        "# import warnings filter\n",
        "from warnings import simplefilter\n",
        "# ignore all future warnings\n",
        "simplefilter(action='ignore', category=FutureWarning)"
      ],
      "execution_count": null,
      "outputs": []
    },
    {
      "cell_type": "code",
      "metadata": {
        "id": "jnVSwIdvdZn_"
      },
      "source": [
        "# importar pacotes \n",
        "import pandas as pd \n",
        "import matplotlib.pyplot as plt\n",
        "import seaborn as sns \n",
        "import numpy as np \n"
      ],
      "execution_count": null,
      "outputs": []
    },
    {
      "cell_type": "markdown",
      "metadata": {
        "id": "T37_56rQyLOb"
      },
      "source": [
        "## DataSet"
      ]
    },
    {
      "cell_type": "code",
      "metadata": {
        "id": "iyP1ztCIO8UO"
      },
      "source": [
        "# import data \n",
        "data_path = \"https://raw.githubusercontent.com/carlosfab/dsnp2/master/datasets/WA_Fn-UseC_-Telco-Customer-Churn.csv\"\n",
        "df = pd.read_csv(data_path)"
      ],
      "execution_count": null,
      "outputs": []
    },
    {
      "cell_type": "code",
      "metadata": {
        "id": "415njNuDXB6T",
        "colab": {
          "base_uri": "https://localhost:8080/",
          "height": 343
        },
        "outputId": "96682a0c-9f4c-418d-fe74-047b3822b620"
      },
      "source": [
        "# see first lines \n",
        "print('Lines: {}'.format(df.shape[0]))\n",
        "print('Columns: {}'.format(df.shape[1]))\n",
        "df.head()"
      ],
      "execution_count": null,
      "outputs": [
        {
          "output_type": "stream",
          "text": [
            "Lines: 7043\n",
            "Columns: 21\n"
          ],
          "name": "stdout"
        },
        {
          "output_type": "execute_result",
          "data": {
            "text/html": [
              "<div>\n",
              "<style scoped>\n",
              "    .dataframe tbody tr th:only-of-type {\n",
              "        vertical-align: middle;\n",
              "    }\n",
              "\n",
              "    .dataframe tbody tr th {\n",
              "        vertical-align: top;\n",
              "    }\n",
              "\n",
              "    .dataframe thead th {\n",
              "        text-align: right;\n",
              "    }\n",
              "</style>\n",
              "<table border=\"1\" class=\"dataframe\">\n",
              "  <thead>\n",
              "    <tr style=\"text-align: right;\">\n",
              "      <th></th>\n",
              "      <th>customerID</th>\n",
              "      <th>gender</th>\n",
              "      <th>SeniorCitizen</th>\n",
              "      <th>Partner</th>\n",
              "      <th>Dependents</th>\n",
              "      <th>tenure</th>\n",
              "      <th>PhoneService</th>\n",
              "      <th>MultipleLines</th>\n",
              "      <th>InternetService</th>\n",
              "      <th>OnlineSecurity</th>\n",
              "      <th>OnlineBackup</th>\n",
              "      <th>DeviceProtection</th>\n",
              "      <th>TechSupport</th>\n",
              "      <th>StreamingTV</th>\n",
              "      <th>StreamingMovies</th>\n",
              "      <th>Contract</th>\n",
              "      <th>PaperlessBilling</th>\n",
              "      <th>PaymentMethod</th>\n",
              "      <th>MonthlyCharges</th>\n",
              "      <th>TotalCharges</th>\n",
              "      <th>Churn</th>\n",
              "    </tr>\n",
              "  </thead>\n",
              "  <tbody>\n",
              "    <tr>\n",
              "      <th>0</th>\n",
              "      <td>7590-VHVEG</td>\n",
              "      <td>Female</td>\n",
              "      <td>0</td>\n",
              "      <td>Yes</td>\n",
              "      <td>No</td>\n",
              "      <td>1</td>\n",
              "      <td>No</td>\n",
              "      <td>No phone service</td>\n",
              "      <td>DSL</td>\n",
              "      <td>No</td>\n",
              "      <td>Yes</td>\n",
              "      <td>No</td>\n",
              "      <td>No</td>\n",
              "      <td>No</td>\n",
              "      <td>No</td>\n",
              "      <td>Month-to-month</td>\n",
              "      <td>Yes</td>\n",
              "      <td>Electronic check</td>\n",
              "      <td>29.85</td>\n",
              "      <td>29.85</td>\n",
              "      <td>No</td>\n",
              "    </tr>\n",
              "    <tr>\n",
              "      <th>1</th>\n",
              "      <td>5575-GNVDE</td>\n",
              "      <td>Male</td>\n",
              "      <td>0</td>\n",
              "      <td>No</td>\n",
              "      <td>No</td>\n",
              "      <td>34</td>\n",
              "      <td>Yes</td>\n",
              "      <td>No</td>\n",
              "      <td>DSL</td>\n",
              "      <td>Yes</td>\n",
              "      <td>No</td>\n",
              "      <td>Yes</td>\n",
              "      <td>No</td>\n",
              "      <td>No</td>\n",
              "      <td>No</td>\n",
              "      <td>One year</td>\n",
              "      <td>No</td>\n",
              "      <td>Mailed check</td>\n",
              "      <td>56.95</td>\n",
              "      <td>1889.5</td>\n",
              "      <td>No</td>\n",
              "    </tr>\n",
              "    <tr>\n",
              "      <th>2</th>\n",
              "      <td>3668-QPYBK</td>\n",
              "      <td>Male</td>\n",
              "      <td>0</td>\n",
              "      <td>No</td>\n",
              "      <td>No</td>\n",
              "      <td>2</td>\n",
              "      <td>Yes</td>\n",
              "      <td>No</td>\n",
              "      <td>DSL</td>\n",
              "      <td>Yes</td>\n",
              "      <td>Yes</td>\n",
              "      <td>No</td>\n",
              "      <td>No</td>\n",
              "      <td>No</td>\n",
              "      <td>No</td>\n",
              "      <td>Month-to-month</td>\n",
              "      <td>Yes</td>\n",
              "      <td>Mailed check</td>\n",
              "      <td>53.85</td>\n",
              "      <td>108.15</td>\n",
              "      <td>Yes</td>\n",
              "    </tr>\n",
              "    <tr>\n",
              "      <th>3</th>\n",
              "      <td>7795-CFOCW</td>\n",
              "      <td>Male</td>\n",
              "      <td>0</td>\n",
              "      <td>No</td>\n",
              "      <td>No</td>\n",
              "      <td>45</td>\n",
              "      <td>No</td>\n",
              "      <td>No phone service</td>\n",
              "      <td>DSL</td>\n",
              "      <td>Yes</td>\n",
              "      <td>No</td>\n",
              "      <td>Yes</td>\n",
              "      <td>Yes</td>\n",
              "      <td>No</td>\n",
              "      <td>No</td>\n",
              "      <td>One year</td>\n",
              "      <td>No</td>\n",
              "      <td>Bank transfer (automatic)</td>\n",
              "      <td>42.30</td>\n",
              "      <td>1840.75</td>\n",
              "      <td>No</td>\n",
              "    </tr>\n",
              "    <tr>\n",
              "      <th>4</th>\n",
              "      <td>9237-HQITU</td>\n",
              "      <td>Female</td>\n",
              "      <td>0</td>\n",
              "      <td>No</td>\n",
              "      <td>No</td>\n",
              "      <td>2</td>\n",
              "      <td>Yes</td>\n",
              "      <td>No</td>\n",
              "      <td>Fiber optic</td>\n",
              "      <td>No</td>\n",
              "      <td>No</td>\n",
              "      <td>No</td>\n",
              "      <td>No</td>\n",
              "      <td>No</td>\n",
              "      <td>No</td>\n",
              "      <td>Month-to-month</td>\n",
              "      <td>Yes</td>\n",
              "      <td>Electronic check</td>\n",
              "      <td>70.70</td>\n",
              "      <td>151.65</td>\n",
              "      <td>Yes</td>\n",
              "    </tr>\n",
              "  </tbody>\n",
              "</table>\n",
              "</div>"
            ],
            "text/plain": [
              "   customerID  gender  SeniorCitizen  ... MonthlyCharges TotalCharges  Churn\n",
              "0  7590-VHVEG  Female              0  ...          29.85        29.85     No\n",
              "1  5575-GNVDE    Male              0  ...          56.95       1889.5     No\n",
              "2  3668-QPYBK    Male              0  ...          53.85       108.15    Yes\n",
              "3  7795-CFOCW    Male              0  ...          42.30      1840.75     No\n",
              "4  9237-HQITU  Female              0  ...          70.70       151.65    Yes\n",
              "\n",
              "[5 rows x 21 columns]"
            ]
          },
          "metadata": {
            "tags": []
          },
          "execution_count": 4
        }
      ]
    },
    {
      "cell_type": "code",
      "metadata": {
        "id": "ThH0bud3XImv"
      },
      "source": [
        "# create an auxiliar dataframe to analyse missing data \n",
        "cons = pd.DataFrame({\n",
        "                    'type': df.dtypes,\n",
        "                    'missing' : df.isna().sum(),\n",
        "                    'size' : df.shape[0],\n",
        "                    'unique': df.nunique()})\n",
        "cons['percentual'] = round(cons['missing'] / cons['size'],2)"
      ],
      "execution_count": null,
      "outputs": []
    },
    {
      "cell_type": "code",
      "metadata": {
        "id": "MZ5IZjbrZLAB",
        "colab": {
          "base_uri": "https://localhost:8080/",
          "height": 700
        },
        "outputId": "b62a6ac1-84d5-428e-cbbb-f8a60725b1a4"
      },
      "source": [
        "cons"
      ],
      "execution_count": null,
      "outputs": [
        {
          "output_type": "execute_result",
          "data": {
            "text/html": [
              "<div>\n",
              "<style scoped>\n",
              "    .dataframe tbody tr th:only-of-type {\n",
              "        vertical-align: middle;\n",
              "    }\n",
              "\n",
              "    .dataframe tbody tr th {\n",
              "        vertical-align: top;\n",
              "    }\n",
              "\n",
              "    .dataframe thead th {\n",
              "        text-align: right;\n",
              "    }\n",
              "</style>\n",
              "<table border=\"1\" class=\"dataframe\">\n",
              "  <thead>\n",
              "    <tr style=\"text-align: right;\">\n",
              "      <th></th>\n",
              "      <th>type</th>\n",
              "      <th>missing</th>\n",
              "      <th>size</th>\n",
              "      <th>unique</th>\n",
              "      <th>percentual</th>\n",
              "    </tr>\n",
              "  </thead>\n",
              "  <tbody>\n",
              "    <tr>\n",
              "      <th>customerID</th>\n",
              "      <td>object</td>\n",
              "      <td>0</td>\n",
              "      <td>7043</td>\n",
              "      <td>7043</td>\n",
              "      <td>0.0</td>\n",
              "    </tr>\n",
              "    <tr>\n",
              "      <th>gender</th>\n",
              "      <td>object</td>\n",
              "      <td>0</td>\n",
              "      <td>7043</td>\n",
              "      <td>2</td>\n",
              "      <td>0.0</td>\n",
              "    </tr>\n",
              "    <tr>\n",
              "      <th>SeniorCitizen</th>\n",
              "      <td>int64</td>\n",
              "      <td>0</td>\n",
              "      <td>7043</td>\n",
              "      <td>2</td>\n",
              "      <td>0.0</td>\n",
              "    </tr>\n",
              "    <tr>\n",
              "      <th>Partner</th>\n",
              "      <td>object</td>\n",
              "      <td>0</td>\n",
              "      <td>7043</td>\n",
              "      <td>2</td>\n",
              "      <td>0.0</td>\n",
              "    </tr>\n",
              "    <tr>\n",
              "      <th>Dependents</th>\n",
              "      <td>object</td>\n",
              "      <td>0</td>\n",
              "      <td>7043</td>\n",
              "      <td>2</td>\n",
              "      <td>0.0</td>\n",
              "    </tr>\n",
              "    <tr>\n",
              "      <th>tenure</th>\n",
              "      <td>int64</td>\n",
              "      <td>0</td>\n",
              "      <td>7043</td>\n",
              "      <td>73</td>\n",
              "      <td>0.0</td>\n",
              "    </tr>\n",
              "    <tr>\n",
              "      <th>PhoneService</th>\n",
              "      <td>object</td>\n",
              "      <td>0</td>\n",
              "      <td>7043</td>\n",
              "      <td>2</td>\n",
              "      <td>0.0</td>\n",
              "    </tr>\n",
              "    <tr>\n",
              "      <th>MultipleLines</th>\n",
              "      <td>object</td>\n",
              "      <td>0</td>\n",
              "      <td>7043</td>\n",
              "      <td>3</td>\n",
              "      <td>0.0</td>\n",
              "    </tr>\n",
              "    <tr>\n",
              "      <th>InternetService</th>\n",
              "      <td>object</td>\n",
              "      <td>0</td>\n",
              "      <td>7043</td>\n",
              "      <td>3</td>\n",
              "      <td>0.0</td>\n",
              "    </tr>\n",
              "    <tr>\n",
              "      <th>OnlineSecurity</th>\n",
              "      <td>object</td>\n",
              "      <td>0</td>\n",
              "      <td>7043</td>\n",
              "      <td>3</td>\n",
              "      <td>0.0</td>\n",
              "    </tr>\n",
              "    <tr>\n",
              "      <th>OnlineBackup</th>\n",
              "      <td>object</td>\n",
              "      <td>0</td>\n",
              "      <td>7043</td>\n",
              "      <td>3</td>\n",
              "      <td>0.0</td>\n",
              "    </tr>\n",
              "    <tr>\n",
              "      <th>DeviceProtection</th>\n",
              "      <td>object</td>\n",
              "      <td>0</td>\n",
              "      <td>7043</td>\n",
              "      <td>3</td>\n",
              "      <td>0.0</td>\n",
              "    </tr>\n",
              "    <tr>\n",
              "      <th>TechSupport</th>\n",
              "      <td>object</td>\n",
              "      <td>0</td>\n",
              "      <td>7043</td>\n",
              "      <td>3</td>\n",
              "      <td>0.0</td>\n",
              "    </tr>\n",
              "    <tr>\n",
              "      <th>StreamingTV</th>\n",
              "      <td>object</td>\n",
              "      <td>0</td>\n",
              "      <td>7043</td>\n",
              "      <td>3</td>\n",
              "      <td>0.0</td>\n",
              "    </tr>\n",
              "    <tr>\n",
              "      <th>StreamingMovies</th>\n",
              "      <td>object</td>\n",
              "      <td>0</td>\n",
              "      <td>7043</td>\n",
              "      <td>3</td>\n",
              "      <td>0.0</td>\n",
              "    </tr>\n",
              "    <tr>\n",
              "      <th>Contract</th>\n",
              "      <td>object</td>\n",
              "      <td>0</td>\n",
              "      <td>7043</td>\n",
              "      <td>3</td>\n",
              "      <td>0.0</td>\n",
              "    </tr>\n",
              "    <tr>\n",
              "      <th>PaperlessBilling</th>\n",
              "      <td>object</td>\n",
              "      <td>0</td>\n",
              "      <td>7043</td>\n",
              "      <td>2</td>\n",
              "      <td>0.0</td>\n",
              "    </tr>\n",
              "    <tr>\n",
              "      <th>PaymentMethod</th>\n",
              "      <td>object</td>\n",
              "      <td>0</td>\n",
              "      <td>7043</td>\n",
              "      <td>4</td>\n",
              "      <td>0.0</td>\n",
              "    </tr>\n",
              "    <tr>\n",
              "      <th>MonthlyCharges</th>\n",
              "      <td>float64</td>\n",
              "      <td>0</td>\n",
              "      <td>7043</td>\n",
              "      <td>1585</td>\n",
              "      <td>0.0</td>\n",
              "    </tr>\n",
              "    <tr>\n",
              "      <th>TotalCharges</th>\n",
              "      <td>object</td>\n",
              "      <td>0</td>\n",
              "      <td>7043</td>\n",
              "      <td>6531</td>\n",
              "      <td>0.0</td>\n",
              "    </tr>\n",
              "    <tr>\n",
              "      <th>Churn</th>\n",
              "      <td>object</td>\n",
              "      <td>0</td>\n",
              "      <td>7043</td>\n",
              "      <td>2</td>\n",
              "      <td>0.0</td>\n",
              "    </tr>\n",
              "  </tbody>\n",
              "</table>\n",
              "</div>"
            ],
            "text/plain": [
              "                     type  missing  size  unique  percentual\n",
              "customerID         object        0  7043    7043         0.0\n",
              "gender             object        0  7043       2         0.0\n",
              "SeniorCitizen       int64        0  7043       2         0.0\n",
              "Partner            object        0  7043       2         0.0\n",
              "Dependents         object        0  7043       2         0.0\n",
              "tenure              int64        0  7043      73         0.0\n",
              "PhoneService       object        0  7043       2         0.0\n",
              "MultipleLines      object        0  7043       3         0.0\n",
              "InternetService    object        0  7043       3         0.0\n",
              "OnlineSecurity     object        0  7043       3         0.0\n",
              "OnlineBackup       object        0  7043       3         0.0\n",
              "DeviceProtection   object        0  7043       3         0.0\n",
              "TechSupport        object        0  7043       3         0.0\n",
              "StreamingTV        object        0  7043       3         0.0\n",
              "StreamingMovies    object        0  7043       3         0.0\n",
              "Contract           object        0  7043       3         0.0\n",
              "PaperlessBilling   object        0  7043       2         0.0\n",
              "PaymentMethod      object        0  7043       4         0.0\n",
              "MonthlyCharges    float64        0  7043    1585         0.0\n",
              "TotalCharges       object        0  7043    6531         0.0\n",
              "Churn              object        0  7043       2         0.0"
            ]
          },
          "metadata": {
            "tags": []
          },
          "execution_count": 6
        }
      ]
    },
    {
      "cell_type": "markdown",
      "metadata": {
        "id": "L5FhK2HfZtew"
      },
      "source": [
        "#### Insights\n",
        " * Não existem dados faltantes\n",
        " * A maioria dos valores são binários, isso pode ser um problema para alguns algorítimos de ml \n",
        " * `Total charges` provavelmente não é um objeto - precisa de feature engenering \n",
        " * `Churn` é o nosso target \n",
        " * `CustumerID` parece não ser relevante para ml "
      ]
    },
    {
      "cell_type": "code",
      "metadata": {
        "id": "fqF4KzC_dhlI"
      },
      "source": [
        "# selecting inly objects columns\n",
        "obejct_col = df.select_dtypes(include='object').columns.tolist()"
      ],
      "execution_count": null,
      "outputs": []
    },
    {
      "cell_type": "code",
      "metadata": {
        "id": "FHfxSGq8e97Z",
        "colab": {
          "base_uri": "https://localhost:8080/"
        },
        "outputId": "5c224cbf-93fe-4d66-d5cb-3dd9a6fcd729"
      },
      "source": [
        "obejct_col"
      ],
      "execution_count": null,
      "outputs": [
        {
          "output_type": "execute_result",
          "data": {
            "text/plain": [
              "['customerID',\n",
              " 'gender',\n",
              " 'Partner',\n",
              " 'Dependents',\n",
              " 'PhoneService',\n",
              " 'MultipleLines',\n",
              " 'InternetService',\n",
              " 'OnlineSecurity',\n",
              " 'OnlineBackup',\n",
              " 'DeviceProtection',\n",
              " 'TechSupport',\n",
              " 'StreamingTV',\n",
              " 'StreamingMovies',\n",
              " 'Contract',\n",
              " 'PaperlessBilling',\n",
              " 'PaymentMethod',\n",
              " 'TotalCharges',\n",
              " 'Churn']"
            ]
          },
          "metadata": {
            "tags": []
          },
          "execution_count": 8
        }
      ]
    },
    {
      "cell_type": "code",
      "metadata": {
        "id": "KfHLQZTIeuID"
      },
      "source": [
        "# remove columns that are not actually categorical \n",
        "obejct_col.remove('customerID')\n",
        "obejct_col.remove('TotalCharges')"
      ],
      "execution_count": null,
      "outputs": []
    },
    {
      "cell_type": "markdown",
      "metadata": {
        "id": "lhPrH497yj0w"
      },
      "source": [
        "**Categorical  columns Plot**"
      ]
    },
    {
      "cell_type": "code",
      "metadata": {
        "id": "gDiJ6f0YkLnH",
        "colab": {
          "base_uri": "https://localhost:8080/",
          "height": 1000
        },
        "outputId": "49cbf51b-3270-42b5-de54-3728b4ab9f82"
      },
      "source": [
        "# plot graph for all categorical columns\n",
        "num_plots = len(obejct_col)\n",
        "total_cols = 3 \n",
        "total_rows = num_plots//total_cols +1 \n",
        "fig, axs = plt.subplots(nrows=total_rows, ncols=total_cols,figsize=(5*total_cols, 5*total_rows), constrained_layout=True)\n",
        "\n",
        "for i, col in enumerate(obejct_col):\n",
        "  row = i//total_cols\n",
        "  pos = i% total_cols\n",
        "  plot = sns.countplot(x = col, data= df,ax=axs[row][pos])"
      ],
      "execution_count": null,
      "outputs": [
        {
          "output_type": "display_data",
          "data": {
            "image/png": "[encoded data removed]",
            "text/plain": [
              "<Figure size 1080x2160 with 18 Axes>"
            ]
          },
          "metadata": {
            "tags": [],
            "needs_background": "light"
          }
        }
      ]
    },
    {
      "cell_type": "markdown",
      "metadata": {
        "id": "8LTvhPWhAq8O"
      },
      "source": [
        "***Teste de Hipótese setup***"
      ]
    },
    {
      "cell_type": "code",
      "metadata": {
        "id": "Zc-tfG2G_djJ"
      },
      "source": [
        "# packages \r\n",
        "import scipy.stats as stats\r\n",
        "from scipy.stats import mannwhitneyu, ttest_ind"
      ],
      "execution_count": null,
      "outputs": []
    },
    {
      "cell_type": "code",
      "metadata": {
        "id": "DuKtafs5BEyp"
      },
      "source": [
        "# Shapiro wilk - verificar se é normal\r\n",
        "def e_normal(group):\r\n",
        "  wval, pval = stats.shapiro(group)\r\n",
        "  if len(group) > 5000:\r\n",
        "      if wval <0.05: return False \r\n",
        "  if pval < 0.05: return False\r\n",
        "  return True\r\n",
        "\r\n",
        "# equal variance test\r\n",
        "def var_igual(group1,group2):\r\n",
        "  _,pval = stats.levene(group1,group2)\r\n",
        "  if pval<0.05: return False \r\n",
        "  return True \r\n",
        "\r\n",
        "# teste de hipótese\r\n",
        "def stats_test(group1, group2):\r\n",
        "  if e_normal(group1) and e_normal(group2):\r\n",
        "    if var_igual(group1,group2):\r\n",
        "      print(\"Realizando t-test...\")\r\n",
        "      return stats.ttest_ind(group1,group2)\r\n",
        "    print(\"Relizando t-test com variancia diferente...\")\r\n",
        "    return stats.ttest_ind(group1,group2, equal_var = False)\r\n",
        "  print(\"Realizando U-Test...\")\r\n",
        "  return mannwhitneyu(group1,group2)"
      ],
      "execution_count": null,
      "outputs": []
    },
    {
      "cell_type": "markdown",
      "metadata": {
        "id": "cFqG7wqY3smV"
      },
      "source": [
        "##**Contracts**\n",
        "**A maioria dos contratos é mês a mês**\n",
        "\n",
        "É mais fácil cancelar um serviço em contratos de curta duração, ***a compania deve se esforçar para conseguir clientes que optem por contratos longos***, para não somente evitar o churn, mas também **ter mais receita previsível.**"
      ]
    },
    {
      "cell_type": "code",
      "metadata": {
        "id": "otVhZGcFhXtL"
      },
      "source": [
        "# create churn dataset\n",
        "df_churn= df[df.Churn == \"Yes\" ]"
      ],
      "execution_count": null,
      "outputs": []
    },
    {
      "cell_type": "code",
      "metadata": {
        "id": "vIKuOo9eXS4p"
      },
      "source": [
        "# created dataset for no churn \n",
        "df_nochurn= df[df.Churn == \"No\" ]"
      ],
      "execution_count": null,
      "outputs": []
    },
    {
      "cell_type": "code",
      "metadata": {
        "id": "gVziKV_tK21b"
      },
      "source": [
        "# proportion of month-to-month contracts in the general dataset \n",
        "contract_general = (df[df.Contract=='Month-to-month'].value_counts().shape[0]/df.shape[0])*100\n",
        "\n",
        "# proportion of month-to-month contracts for clients that churn  \n",
        "contract_churn = (df_churn[df_churn.Contract=='Month-to-month'].value_counts().shape[0]/df_churn.shape[0])*100\n",
        "\n",
        "# proportion of month-to-month contracts for clients that did not churn  \n",
        "contract_nochurn = (df[(df.Churn=='No') & (df.Contract=='Month-to-month')].shape[0]/df[df.Churn=='No'].shape[0])*100"
      ],
      "execution_count": null,
      "outputs": []
    },
    {
      "cell_type": "code",
      "metadata": {
        "id": "ZdMn1cmWKHMS",
        "colab": {
          "base_uri": "https://localhost:8080/",
          "height": 455
        },
        "outputId": "f49a070b-54cc-4424-856c-4e2a10989c95"
      },
      "source": [
        "print('Porcentage of monthly contracts: {:.2f}%'.format(contract_general))\n",
        "print('Porcentage of monthly contracts of clients that did not churn: {:.2f}%'.format(contract_nochurn))\n",
        "print('Porcentage of monthly contracts of clients that churn: {:.2f}%'.format(contract_churn))\n",
        "\n",
        "# graph comparison\n",
        "fig, (ax1,ax2) = plt.subplots(nrows= 1,ncols=2,figsize=(15,6))\n",
        "sns.countplot(x=\"Contract\", data =df,ax=ax1)\n",
        "ax1.set_title(\"General Contracts\")\n",
        "sns.countplot(x=\"Contract\", data =df_churn,ax=ax2)\n",
        "ax2.set_title(\"Churn Contracts\")\n",
        "\n",
        "plt.show()"
      ],
      "execution_count": null,
      "outputs": [
        {
          "output_type": "stream",
          "text": [
            "Porcentage of monthly contracts: 55.02%\n",
            "Porcentage of monthly contracts of clients that did not churn: 42.91%\n",
            "Porcentage of monthly contracts of clients that churn: 88.55%\n"
          ],
          "name": "stdout"
        },
        {
          "output_type": "display_data",
          "data": {
            "image/png": "[encoded data removed]",
            "text/plain": [
              "<Figure size 1080x432 with 2 Axes>"
            ]
          },
          "metadata": {
            "tags": [],
            "needs_background": "light"
          }
        }
      ]
    },
    {
      "cell_type": "markdown",
      "metadata": {
        "id": "goYr_d2CLPXo"
      },
      "source": [
        "**Teste de Hipótese de tipos de contrato - Clientes Churn**\r\n",
        "\r\n",
        "* *H0* - em contratos curtos os clientes ficam mais tempo \r\n",
        "* *HA* - em contratos longos os clientes ficam mais tempo"
      ]
    },
    {
      "cell_type": "code",
      "metadata": {
        "colab": {
          "base_uri": "https://localhost:8080/"
        },
        "id": "hiBAsdlNzqXp",
        "outputId": "9d4cc32c-2c69-4c17-b2df-145f9c5504a8"
      },
      "source": [
        "# churn clients with short contracts\r\n",
        "churn_short = df_churn[df_churn.Contract == 'Month-to-month']\r\n",
        "churn_short_mean =  churn_short['tenure'].mean()\r\n",
        "\r\n",
        "# churn clients with long contracts\r\n",
        "churn_long = df_churn[df_churn.Contract != 'Month-to-month']\r\n",
        "churn_long_mean = churn_long['tenure'].mean()\r\n",
        "\r\n",
        "print(\"Clientes Chrun\\nTenure médio de contratos curtos: {:.2f}\\nTenure médio de contratos longos: {:.2f}\".format(churn_short_mean,churn_long_mean))\r\n"
      ],
      "execution_count": null,
      "outputs": [
        {
          "output_type": "stream",
          "text": [
            "Clientes Chrun\n",
            "Tenure médio de contratos curtos: 14.02\n",
            "Tenure médio de contratos longos: 48.62\n"
          ],
          "name": "stdout"
        }
      ]
    },
    {
      "cell_type": "code",
      "metadata": {
        "colab": {
          "base_uri": "https://localhost:8080/"
        },
        "id": "hSMLAoXRz4mj",
        "outputId": "b5291944-e68a-409c-cdf8-ea8bfe066d28"
      },
      "source": [
        "# select group\r\n",
        "group1 = churn_long['tenure']\r\n",
        "group2 = churn_short['tenure']\r\n",
        "\r\n",
        "# testar hypotese\r\n",
        "stats_test(group1,group2)"
      ],
      "execution_count": null,
      "outputs": [
        {
          "output_type": "stream",
          "text": [
            "Realizando U-Test...\n"
          ],
          "name": "stdout"
        },
        {
          "output_type": "execute_result",
          "data": {
            "text/plain": [
              "MannwhitneyuResult(statistic=32340.5, pvalue=1.3288923043838296e-85)"
            ]
          },
          "metadata": {
            "tags": []
          },
          "execution_count": 27
        }
      ]
    },
    {
      "cell_type": "markdown",
      "metadata": {
        "id": "zIWzgu42efWC"
      },
      "source": [
        "*p-value < 0.05 - H0 rejeitada*"
      ]
    },
    {
      "cell_type": "markdown",
      "metadata": {
        "id": "YqkNh1wGK4BM"
      },
      "source": [
        "**Teste de Hipótese de tipos de contrato - Clientes Ativos**\r\n",
        "\r\n",
        "* *H0* - em contratos curtos os clientes ficam mais tempo \r\n",
        "* *HA* - em contratos longos os clientes ficam mais tempo"
      ]
    },
    {
      "cell_type": "code",
      "metadata": {
        "colab": {
          "base_uri": "https://localhost:8080/"
        },
        "id": "TEnNaNVlzz49",
        "outputId": "a11f4597-8104-4f84-b4c8-5bbec1ae4561"
      },
      "source": [
        "# active clients with short contracts\r\n",
        "active_short = df_nochurn[df_nochurn.Contract == 'Month-to-month']\r\n",
        "active_short_mean_tenure = active_short['tenure'].mean()\r\n",
        "\r\n",
        "# active clients with long contracts\r\n",
        "active_long = df_nochurn[df_nochurn.Contract != 'Month-to-month']\r\n",
        "active_long_mean_tenure = active_long['tenure'].mean()\r\n",
        "\r\n",
        "print(\"Clientes Ativos\\nTenure médio de contratos curtos: {:.2f}\\nTenure médio de contratos longos: {:.2f}\".format(active_short_mean_tenure,active_long_mean_tenure))\r\n"
      ],
      "execution_count": null,
      "outputs": [
        {
          "output_type": "stream",
          "text": [
            "Clientes Ativos\n",
            "Tenure médio de contratos curtos: 21.03\n",
            "Tenure médio de contratos longos: 50.00\n"
          ],
          "name": "stdout"
        }
      ]
    },
    {
      "cell_type": "code",
      "metadata": {
        "colab": {
          "base_uri": "https://localhost:8080/"
        },
        "id": "IJTL6e9G0Aky",
        "outputId": "3f7050d3-7f18-4ba5-b0a5-f4e21233c386"
      },
      "source": [
        "# test hypothesis \r\n",
        "group1 = active_long['tenure']\r\n",
        "group1 = active_short['tenure']\r\n",
        "\r\n",
        "stats_test(group1,group2)"
      ],
      "execution_count": null,
      "outputs": [
        {
          "output_type": "stream",
          "text": [
            "Realizando U-Test...\n"
          ],
          "name": "stdout"
        },
        {
          "output_type": "execute_result",
          "data": {
            "text/plain": [
              "MannwhitneyuResult(statistic=1363037.5, pvalue=1.4577752849245383e-43)"
            ]
          },
          "metadata": {
            "tags": []
          },
          "execution_count": 30
        }
      ]
    },
    {
      "cell_type": "markdown",
      "metadata": {
        "id": "_90KllA8epP2"
      },
      "source": [
        "*p-value < 0.05 - H0 rejeitada*"
      ]
    },
    {
      "cell_type": "markdown",
      "metadata": {
        "id": "5kbeKp9o4F6z"
      },
      "source": [
        "## Partner\n",
        "\n",
        "Para a emoresa, talvez seja ideal ter clientes que tenham parceiros, porque se um não usa mas o outro usa, ***eles irão considerar mais antes de cancelar.***\n"
      ]
    },
    {
      "cell_type": "markdown",
      "metadata": {
        "id": "U-1gO7CP4VtK"
      },
      "source": [
        "* Clientes ativos:\n",
        "  * 52.82% tem parceiro \n",
        "* Clientes **churn:**\n",
        "  * **Somente 35.79% tem parceiro** "
      ]
    },
    {
      "cell_type": "code",
      "metadata": {
        "id": "xmLB_CPnSdZD",
        "colab": {
          "base_uri": "https://localhost:8080/"
        },
        "outputId": "df622e35-d03a-4ea7-b4b5-c21e14d5408a"
      },
      "source": [
        "# partner proporcion churn \n",
        "partner_churn_yes = (df_churn[df_churn.Partner=='Yes'].shape[0]/df_churn.shape[0])*100\n",
        "partner_churn_no = (df_churn[df_churn.Partner=='No'].shape[0]/df_churn.shape[0])*100\n",
        "\n",
        "# partner proporcion no churn \n",
        "partner_nochurn_yes = (df_nochurn[df_nochurn.Partner=='Yes'].shape[0]/df_nochurn.shape[0])*100\n",
        "partner_nochurn_no = (df_nochurn[df_nochurn.Partner=='No'].shape[0]/df_nochurn.shape[0])*100\n",
        "\n",
        "# print results\n",
        "print('Clients that didnt churn:\\n {:.2f}% had a partner and {:.2f} did not\\nClients that churn:\\n {:.2f}% had a partner and {:.2f} did not'.format(partner_nochurn_yes,partner_nochurn_no,partner_churn_yes,partner_churn_no))"
      ],
      "execution_count": null,
      "outputs": [
        {
          "output_type": "stream",
          "text": [
            "Clients that didnt churn:\n",
            " 52.82% had a partner and 47.18 did not\n",
            "Clients that churn:\n",
            " 35.79% had a partner and 64.21 did not\n"
          ],
          "name": "stdout"
        }
      ]
    },
    {
      "cell_type": "markdown",
      "metadata": {
        "id": "xJbADLvdMroE"
      },
      "source": [
        "**Teste de Hipótese com/sem parceiros - Clientes Churn**\r\n",
        "\r\n",
        "* *H0* - clientes sem parceiro ficam mais tempo \r\n",
        "* *HA* - clientes com parceiro ficam mais tempo"
      ]
    },
    {
      "cell_type": "code",
      "metadata": {
        "colab": {
          "base_uri": "https://localhost:8080/"
        },
        "id": "t-Z0s2uOahF-",
        "outputId": "b57d2a54-bcc0-43fb-f508-78c490f55ec1"
      },
      "source": [
        "# clientes churn com parceiros \r\n",
        "churn_partner_yes = df_churn[df_churn.Partner=='Yes']\r\n",
        "churn_partner_yes_tenure = churn_partner_yes['tenure'].mean()\r\n",
        "\r\n",
        "# clientes churn sem parceiros \r\n",
        "churn_partner_no = df_churn[df_churn.Partner=='No']\r\n",
        "churn_partner_no_tenure = churn_partner_no['tenure'].mean()\r\n",
        "\r\n",
        "print(\"Clientes Churn\\nTenure médio de clientes com parceiros: {:.2f}\\nTenure médio de clientes sem parceiross: {:.2f}\".format(churn_partner_yes_tenure,churn_partner_no_tenure))"
      ],
      "execution_count": null,
      "outputs": [
        {
          "output_type": "stream",
          "text": [
            "Clientes Churn\n",
            "Tenure médio de clientes com parceiros: 26.59\n",
            "Tenure médio de clientes sem parceiross: 13.18\n"
          ],
          "name": "stdout"
        }
      ]
    },
    {
      "cell_type": "code",
      "metadata": {
        "colab": {
          "base_uri": "https://localhost:8080/"
        },
        "id": "cPzEDdCMbvfV",
        "outputId": "2b39732a-ca89-4543-9bb9-32888a8a3237"
      },
      "source": [
        "# test churn clients - with partner and without partner\r\n",
        "group1 = churn_partner_yes['tenure']\r\n",
        "group2 = churn_partner_no['tenure']\r\n",
        "\r\n",
        "stats_test(group1,group2)"
      ],
      "execution_count": null,
      "outputs": [
        {
          "output_type": "stream",
          "text": [
            "Realizando U-Test...\n"
          ],
          "name": "stdout"
        },
        {
          "output_type": "execute_result",
          "data": {
            "text/plain": [
              "MannwhitneyuResult(statistic=242618.0, pvalue=1.9182530357485226e-46)"
            ]
          },
          "metadata": {
            "tags": []
          },
          "execution_count": 33
        }
      ]
    },
    {
      "cell_type": "markdown",
      "metadata": {
        "id": "6VbdTLPYy7ez"
      },
      "source": [
        "*p-value < 0.05 - H0 rejeitada*"
      ]
    },
    {
      "cell_type": "markdown",
      "metadata": {
        "id": "ecFaWI6OMw-g"
      },
      "source": [
        "**Teste de Hipótese com/sem parceiros - Clientes Ativos**\r\n",
        "\r\n",
        "* *H0* - clientes sem parceiro ficam mais tempo \r\n",
        "* *HA* - clientes com parceiro ficam mais tempo"
      ]
    },
    {
      "cell_type": "code",
      "metadata": {
        "colab": {
          "base_uri": "https://localhost:8080/"
        },
        "id": "-TV21XIGbUNs",
        "outputId": "6dbc8381-7e58-4ae0-e740-2900a08a745a"
      },
      "source": [
        "# Clientes ativos com parceiros\r\n",
        "active_partner_yes = df_nochurn[df_nochurn.Partner=='Yes']\r\n",
        "active_partner_yes_tenure = active_partner_yes['tenure'].mean()\r\n",
        "\r\n",
        "# Clientes ativos sem parceiros\r\n",
        "active_partner_no = df_nochurn[df_nochurn.Partner=='No']\r\n",
        "active_partner_no_tenure = active_partner_no['tenure'].mean()\r\n",
        "\r\n",
        "print(\"Clientes Ativos\\nTenure médio de clientes com parceiros: {:.2f}\\nTenure médio de clientes sem parceiross: {:.2f}\".format(active_partner_yes_tenure,active_partner_no_tenure))"
      ],
      "execution_count": null,
      "outputs": [
        {
          "output_type": "stream",
          "text": [
            "Clientes Ativos\n",
            "Tenure médio de clientes com parceiros: 45.79\n",
            "Tenure médio de clientes sem parceiross: 28.36\n"
          ],
          "name": "stdout"
        }
      ]
    },
    {
      "cell_type": "code",
      "metadata": {
        "colab": {
          "base_uri": "https://localhost:8080/"
        },
        "id": "KpLxORpTs7LC",
        "outputId": "61844520-8fab-4e19-f7ed-fad8c0f059e1"
      },
      "source": [
        "# test active clients - with partner and without partner\r\n",
        "group1 = active_partner_yes['tenure']\r\n",
        "group2 = active_partner_no['tenure']\r\n",
        "\r\n",
        "stats_test(group1,group2)"
      ],
      "execution_count": null,
      "outputs": [
        {
          "output_type": "stream",
          "text": [
            "Realizando U-Test...\n"
          ],
          "name": "stdout"
        },
        {
          "output_type": "execute_result",
          "data": {
            "text/plain": [
              "MannwhitneyuResult(statistic=1925559.5, pvalue=1.0438552677385367e-152)"
            ]
          },
          "metadata": {
            "tags": []
          },
          "execution_count": 35
        }
      ]
    },
    {
      "cell_type": "markdown",
      "metadata": {
        "id": "F52how2uy9Gb"
      },
      "source": [
        "*p-value < 0.05 - H0 rejeitada*"
      ]
    },
    {
      "cell_type": "markdown",
      "metadata": {
        "id": "sAjl_LN44skb"
      },
      "source": [
        "## Dependents\n",
        "**A maioria não tem dependentes** - isso pode gerar o mesmo efeito mensionado anteriormente"
      ]
    },
    {
      "cell_type": "markdown",
      "metadata": {
        "id": "UwmPs0rv49_C"
      },
      "source": [
        "* Clientes **Ativos**:\n",
        " * **34.48%** tem dependentes \n",
        "* Clientes **Churn**:\n",
        " * **17.44%** tem dependentes"
      ]
    },
    {
      "cell_type": "code",
      "metadata": {
        "id": "Kl9M8aM7b_8A",
        "colab": {
          "base_uri": "https://localhost:8080/"
        },
        "outputId": "a77c0074-cece-4c8c-e0be-990135e994d1"
      },
      "source": [
        "# partner proporcion no churn \n",
        "dependent_nochurn_yes = (df_nochurn[df_nochurn.Dependents=='Yes'].shape[0]/df_nochurn.shape[0])*100\n",
        "dependent_nochurn_no = (df_nochurn[df_nochurn.Dependents=='No'].shape[0]/df_nochurn.shape[0])*100\n",
        "\n",
        "# partner proporcion churn \n",
        "dependent_churn_yes = (df_churn[df_churn.Dependents=='Yes'].shape[0]/df_churn.shape[0])*100\n",
        "dependent_churn_no = (df_churn[df_churn.Dependents=='No'].shape[0]/df_churn.shape[0])*100\n",
        "\n",
        "# print results\n",
        "print('Clients that didnt churn:\\n {:.2f}% had dependents and {:.2f} did not\\nClients that churn:\\n {:.2f}% had dependents and {:.2f} did not'.format(dependent_nochurn_yes,dependent_nochurn_no,dependent_churn_yes,dependent_churn_no))"
      ],
      "execution_count": null,
      "outputs": [
        {
          "output_type": "stream",
          "text": [
            "Clients that didnt churn:\n",
            " 34.48% had dependents and 65.52 did not\n",
            "Clients that churn:\n",
            " 17.44% had dependents and 82.56 did not\n"
          ],
          "name": "stdout"
        }
      ]
    },
    {
      "cell_type": "markdown",
      "metadata": {
        "id": "JVSBa92fe5_W"
      },
      "source": [
        "* **Churn customers had far fewer dependents than those who stayed with the service**"
      ]
    },
    {
      "cell_type": "markdown",
      "metadata": {
        "id": "6g12ECqIZkTC"
      },
      "source": [
        "**Teste de Hipótese com/sem dependentes - Clientes Chrun**\r\n",
        "\r\n",
        "* *H0* - clientes sem dependentes ficam mais tempo \r\n",
        "* *HA* - clientes com dependentes ficam mais tempo"
      ]
    },
    {
      "cell_type": "code",
      "metadata": {
        "colab": {
          "base_uri": "https://localhost:8080/"
        },
        "id": "-ebTTFKNuJpz",
        "outputId": "cbe38da6-15fe-4c87-d397-481cde8b93c6"
      },
      "source": [
        "# clientes churn com dependentes churn tenure medio\r\n",
        "churn_dep_yes = df_churn[df_churn.Dependents=='Yes']\r\n",
        "churn_dep_yes_tenure = churn_dep_yes['tenure'].mean()\r\n",
        "\r\n",
        "# clientes churn sem dependentes tenure medio\r\n",
        "churn_dep_no = df_churn[df_churn.Dependents=='No']\r\n",
        "churn_dep_no_tenure = churn_dep_no['tenure'].mean()\r\n",
        "\r\n",
        "print(\"Clientes Churn\\nTenure médio de clientes com dependentes: {:.2f}\\nTenure médio de clientes sem dependentes: {:.2f}\".format(churn_dep_yes_tenure,churn_dep_no_tenure))"
      ],
      "execution_count": null,
      "outputs": [
        {
          "output_type": "stream",
          "text": [
            "Clientes Churn\n",
            "Tenure médio de clientes com dependentes: 22.03\n",
            "Tenure médio de clientes sem dependentes: 17.12\n"
          ],
          "name": "stdout"
        }
      ]
    },
    {
      "cell_type": "code",
      "metadata": {
        "colab": {
          "base_uri": "https://localhost:8080/"
        },
        "id": "YWKyl78jun-4",
        "outputId": "8638a1a0-68c6-45a1-926e-fb61b45b2749"
      },
      "source": [
        "# test dependents \r\n",
        "group1 = churn_dep_yes['tenure']\r\n",
        "group2 = churn_dep_no['tenure']\r\n",
        "\r\n",
        "stats_test(group1,group2)"
      ],
      "execution_count": null,
      "outputs": [
        {
          "output_type": "stream",
          "text": [
            "Realizando U-Test...\n"
          ],
          "name": "stdout"
        },
        {
          "output_type": "execute_result",
          "data": {
            "text/plain": [
              "MannwhitneyuResult(statistic=217114.5, pvalue=4.760606974894272e-05)"
            ]
          },
          "metadata": {
            "tags": []
          },
          "execution_count": 41
        }
      ]
    },
    {
      "cell_type": "markdown",
      "metadata": {
        "id": "BYHNO283zDDg"
      },
      "source": [
        "*p-value < 0.05 - H0 rejeitada*"
      ]
    },
    {
      "cell_type": "markdown",
      "metadata": {
        "id": "BFmKGt-tZq4x"
      },
      "source": [
        "**Teste de Hipótese com/sem dependentes - Clientes Ativos**\r\n",
        "\r\n",
        "* *H0* - clientes sem dependentes ficam mais tempo \r\n",
        "* *HA* - clientes com dependentes ficam mais tempo"
      ]
    },
    {
      "cell_type": "code",
      "metadata": {
        "colab": {
          "base_uri": "https://localhost:8080/"
        },
        "id": "nJeFSo0iu-G2",
        "outputId": "0d546995-e26f-4364-868a-c18c0817004e"
      },
      "source": [
        "# clientes ativos com dependentes\r\n",
        "active_dep_yes = df_nochurn[df_nochurn.Dependents=='Yes']\r\n",
        "active_dep_yes_tenure = active_dep_yes['tenure'].mean()\r\n",
        "\r\n",
        "# clientes ativos sem dependentes\r\n",
        "active_dep_no = df_nochurn[df_nochurn.Dependents=='No']\r\n",
        "active_dep_no_tenure = active_dep_no['tenure'].mean()\r\n",
        "\r\n",
        "print(\"Clientes Ativos\\nTenure médio de clientes com dependentes: {:.2f}\\nTenure médio de clientes sem dependentes: {:.2f}\".format(active_dep_yes_tenure,active_dep_no_tenure))"
      ],
      "execution_count": null,
      "outputs": [
        {
          "output_type": "stream",
          "text": [
            "Clientes Ativos\n",
            "Tenure médio de clientes com dependentes: 41.35\n",
            "Tenure médio de clientes sem dependentes: 35.58\n"
          ],
          "name": "stdout"
        }
      ]
    },
    {
      "cell_type": "code",
      "metadata": {
        "colab": {
          "base_uri": "https://localhost:8080/"
        },
        "id": "fognNluAwSi7",
        "outputId": "b17bc97e-9e50-4ff7-9fd9-d0fceaf8ad63"
      },
      "source": [
        "group1 = active_dep_yes['tenure']\r\n",
        "group2 = active_dep_no['tenure']\r\n",
        "\r\n",
        "stats_test(group1,group2)"
      ],
      "execution_count": null,
      "outputs": [
        {
          "output_type": "stream",
          "text": [
            "Realizando U-Test...\n"
          ],
          "name": "stdout"
        },
        {
          "output_type": "execute_result",
          "data": {
            "text/plain": [
              "MannwhitneyuResult(statistic=2596526.5, pvalue=2.866516349730208e-17)"
            ]
          },
          "metadata": {
            "tags": []
          },
          "execution_count": 44
        }
      ]
    },
    {
      "cell_type": "markdown",
      "metadata": {
        "id": "d30FGbtjzDsy"
      },
      "source": [
        "*p-value < 0.05 - H0 rejeitada*"
      ]
    },
    {
      "cell_type": "markdown",
      "metadata": {
        "id": "V9M9xU2w6NyF"
      },
      "source": [
        "## Payment Method\n",
        "**Pagamento por conta enviada pelos correios é o segundo mais popular** \n",
        "\n",
        "Se tiver um alto voulme de churn por conta de clientes que não pagaram, **a empresa precisa criar uma estratégia para aumentar os pagamentos automáticos**. Hoje a maioria dos pagamentos é feito online, as vezes a pessoa não queria cancelar mas esqueceu de pagar. "
      ]
    },
    {
      "cell_type": "markdown",
      "metadata": {
        "id": "-X6hJwmF6gva"
      },
      "source": [
        "* Clientes **Ativos**:\n",
        " * **49.79%** automatic payment \n",
        "* Clientes **Churn**\n",
        " * **26.22%** automatic payment"
      ]
    },
    {
      "cell_type": "code",
      "metadata": {
        "id": "F5_DA6KUcnfx",
        "colab": {
          "base_uri": "https://localhost:8080/",
          "height": 85
        },
        "outputId": "e60377f6-e9df-4b2f-a3e1-94d8b08c475b"
      },
      "source": [
        "# partner proporcion churn \n",
        "payment_churn_mail = (df_churn[(df_churn.PaymentMethod =='Mailed check') |(df_churn.PaymentMethod =='Electronic check')].shape[0]/df_churn.shape[0])*100\n",
        "payment_churn_nomail = (df_churn[(df_churn.PaymentMethod =='Credit card (automatic)') |(df_churn.PaymentMethod =='Bank transfer (automatic)')].shape[0]/df_churn.shape[0])*100\n",
        "\n",
        "# partner proporcion no churn \n",
        "payment_nochurn_mail = (df_nochurn[(df_nochurn.PaymentMethod =='Mailed check') |(df_nochurn.PaymentMethod =='Electronic check')].shape[0]/df_nochurn.shape[0])*100\n",
        "payment_nochurn_nomail = (df_nochurn[(df_nochurn.PaymentMethod =='Credit card (automatic)') |(df_nochurn.PaymentMethod =='Bank transfer (automatic)')].shape[0]/df_nochurn.shape[0])*100\n",
        "\n",
        "# print results\n",
        "print('Clients that didnt churn:\\n {:.2f}% Mail {:.2f}% automatic\\nClients that churn:\\n {:.2f}% Mail and {:.2f}% automatic'.format(payment_nochurn_mail,payment_nochurn_nomail,payment_churn_mail,payment_churn_nomail))"
      ],
      "execution_count": null,
      "outputs": [
        {
          "output_type": "stream",
          "text": [
            "Clients that didnt churn:\n",
            " 50.21% Mail 49.79% automatic\n",
            "Clients that churn:\n",
            " 73.78% Mail and 26.22% automatic\n"
          ],
          "name": "stdout"
        }
      ]
    },
    {
      "cell_type": "markdown",
      "metadata": {
        "id": "q7R52Z_vly27"
      },
      "source": [
        "* **Clients that churn had far less automatic payment methods**"
      ]
    },
    {
      "cell_type": "markdown",
      "metadata": {
        "id": "nZ_W6-tv2K7G"
      },
      "source": [
        "**Teste de Hipótese com/sem dependentes - Clientes Churn**\r\n",
        "\r\n",
        "* *H0* - clientes com pagamento não automático ficam mais tempo \r\n",
        "* *HA* - clientes com pagamento automático ficam mais tempo"
      ]
    },
    {
      "cell_type": "code",
      "metadata": {
        "colab": {
          "base_uri": "https://localhost:8080/"
        },
        "id": "PUpSofRBwzhW",
        "outputId": "e5b3c49d-ec6d-4ac9-fe53-1bffd4b377f2"
      },
      "source": [
        "# clinets churn pagamento automatico \r\n",
        "churn_auto = df_churn[(df_churn.PaymentMethod =='Credit card (automatic)') | (df_churn.PaymentMethod =='Bank transfer (automatic)')]\r\n",
        "churn_auto_mean_tenure = churn_auto['tenure'].mean()\r\n",
        "\r\n",
        "# clinets churn pagamento manual\r\n",
        "churn_mail = df_churn[(df_churn.PaymentMethod =='Mailed check') |(df_churn.PaymentMethod =='Electronic check')]\r\n",
        "churn_mail_mean_tenure = churn_mail['tenure'].mean()\r\n",
        "\r\n",
        "print(\"Clientes Churn\\nTenure médio de clientes com pagamento automático: {:.2f}\\nTenure médio de clientes com pagamento manual: {:.2f}\".format(churn_auto_mean_tenure,churn_mail_mean_tenure))"
      ],
      "execution_count": null,
      "outputs": [
        {
          "output_type": "stream",
          "text": [
            "Clientes Churn\n",
            "Tenure médio de clientes com pagamento automático: 26.87\n",
            "Tenure médio de clientes com pagamento manual: 14.82\n"
          ],
          "name": "stdout"
        }
      ]
    },
    {
      "cell_type": "code",
      "metadata": {
        "colab": {
          "base_uri": "https://localhost:8080/"
        },
        "id": "sDP9yswhxxNU",
        "outputId": "ae038ba2-55d3-4cb4-9cc8-8ebd1354b659"
      },
      "source": [
        "group1 = churn_auto['tenure']\r\n",
        "group2 = churn_mail['tenure']\r\n",
        "\r\n",
        "stats_test(group1,group2)"
      ],
      "execution_count": null,
      "outputs": [
        {
          "output_type": "stream",
          "text": [
            "Realizando U-Test...\n"
          ],
          "name": "stdout"
        },
        {
          "output_type": "execute_result",
          "data": {
            "text/plain": [
              "MannwhitneyuResult(statistic=214087.0, pvalue=4.319921764086194e-34)"
            ]
          },
          "metadata": {
            "tags": []
          },
          "execution_count": 51
        }
      ]
    },
    {
      "cell_type": "markdown",
      "metadata": {
        "id": "yHXiJOA-zGM3"
      },
      "source": [
        "*p-value < 0.05 - H0 rejeitada*"
      ]
    },
    {
      "cell_type": "markdown",
      "metadata": {
        "id": "Q6AORpAL2WAB"
      },
      "source": [
        "**Teste de Hipótese com/sem dependentes - Clientes Ativos**\r\n",
        "\r\n",
        "* *H0* - clientes com pagamento não automático ficam mais tempo \r\n",
        "* *HA* - clientes com pagamento automático ficam mais tempo"
      ]
    },
    {
      "cell_type": "code",
      "metadata": {
        "colab": {
          "base_uri": "https://localhost:8080/"
        },
        "id": "uj4UWL24yA6h",
        "outputId": "20643a88-c707-4fbd-a8b4-f6cbbbdb161e"
      },
      "source": [
        "# clientes ativos pagamento automatico\r\n",
        "active_auto = df_nochurn[(df_nochurn.PaymentMethod =='Credit card (automatic)') |(df_nochurn.PaymentMethod =='Bank transfer (automatic)')]\r\n",
        "active_auto_mean_tenure = active_auto['tenure'].mean()\r\n",
        "\r\n",
        "# clientes ativos pagamento manual\r\n",
        "active_mail = df_nochurn[(df_nochurn.PaymentMethod =='Mailed check') |(df_nochurn.PaymentMethod =='Electronic check')]\r\n",
        "active_mail_mean_tenure = active_mail['tenure'].mean()\r\n",
        "\r\n",
        "print(\"Clientes Ativos\\nTenure médio de clientes com pagamento automático: {:.2f}\\nTenure médio de clientes com pagamento manual: {:.2f}\".format(active_auto_mean_tenure,active_mail_mean_tenure))"
      ],
      "execution_count": null,
      "outputs": [
        {
          "output_type": "stream",
          "text": [
            "Clientes Ativos\n",
            "Tenure médio de clientes com pagamento automático: 46.62\n",
            "Tenure médio de clientes com pagamento manual: 28.60\n"
          ],
          "name": "stdout"
        }
      ]
    },
    {
      "cell_type": "code",
      "metadata": {
        "colab": {
          "base_uri": "https://localhost:8080/"
        },
        "id": "wLeQTahzzIUu",
        "outputId": "2dc2bdb6-fbde-43ac-e44e-3841b2fc2d63"
      },
      "source": [
        "group1 = active_auto['tenure']\r\n",
        "group1 = active_mail['tenure']\r\n",
        "stats_test(group1,group2)"
      ],
      "execution_count": null,
      "outputs": [
        {
          "output_type": "stream",
          "text": [
            "Realizando U-Test...\n"
          ],
          "name": "stdout"
        },
        {
          "output_type": "execute_result",
          "data": {
            "text/plain": [
              "MannwhitneyuResult(statistic=1091167.5, pvalue=2.4736313270185257e-92)"
            ]
          },
          "metadata": {
            "tags": []
          },
          "execution_count": 54
        }
      ]
    },
    {
      "cell_type": "markdown",
      "metadata": {
        "id": "MgipkwPlzG1y"
      },
      "source": [
        "*p-value < 0.05 - H0 rejeitada*"
      ]
    }
  ]
}